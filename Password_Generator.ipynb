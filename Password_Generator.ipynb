{
  "nbformat": 4,
  "nbformat_minor": 0,
  "metadata": {
    "colab": {
      "name": "Password Generator",
      "version": "0.3.2",
      "provenance": [],
      "include_colab_link": true
    },
    "kernelspec": {
      "name": "python3",
      "display_name": "Python 3"
    }
  },
  "cells": [
    {
      "cell_type": "markdown",
      "metadata": {
        "id": "view-in-github",
        "colab_type": "text"
      },
      "source": [
        "<a href=\"https://colab.research.google.com/github/surge123/Password-Generator/blob/master/Password_Generator.ipynb\" target=\"_parent\"><img src=\"https://colab.research.google.com/assets/colab-badge.svg\" alt=\"Open In Colab\"/></a>"
      ]
    },
    {
      "metadata": {
        "id": "GcEMKFjtAE57",
        "colab_type": "code",
        "colab": {
          "base_uri": "https://localhost:8080/",
          "height": 102
        },
        "outputId": "5f6c2c79-6d20-4c99-a989-ad19be420416"
      },
      "cell_type": "code",
      "source": [
        "!pip install echo\n",
        "!pip install pyperclip\n",
        "!which pip\n",
        "!pip --version\n",
        "!uname -a"
      ],
      "execution_count": 43,
      "outputs": [
        {
          "output_type": "stream",
          "text": [
            "Requirement already satisfied: echo in /usr/local/lib/python3.6/dist-packages (0.1)\n",
            "Requirement already satisfied: pyperclip in /usr/local/lib/python3.6/dist-packages (1.7.0)\n",
            "/usr/local/bin/pip\n",
            "pip 19.0.2 from /usr/local/lib/python3.6/dist-packages/pip (python 3.6)\n",
            "Linux 68a6f7e26ece 4.14.79+ #1 SMP Wed Dec 19 21:19:13 PST 2018 x86_64 x86_64 x86_64 GNU/Linux\n"
          ],
          "name": "stdout"
        }
      ]
    },
    {
      "metadata": {
        "id": "6XIbNiAAAUbo",
        "colab_type": "code",
        "colab": {
          "base_uri": "https://localhost:8080/",
          "height": 102
        },
        "outputId": "a030c612-5c8c-4908-d9e0-52c476a0e0d3"
      },
      "cell_type": "code",
      "source": [
        "!sudo apt-get install xsel"
      ],
      "execution_count": 35,
      "outputs": [
        {
          "output_type": "stream",
          "text": [
            "Reading package lists... Done\n",
            "Building dependency tree       \n",
            "Reading state information... Done\n",
            "xsel is already the newest version (1.2.0-4).\n",
            "0 upgraded, 0 newly installed, 0 to remove and 8 not upgraded.\n"
          ],
          "name": "stdout"
        }
      ]
    },
    {
      "metadata": {
        "id": "zcBtCXsWA0_J",
        "colab_type": "code",
        "colab": {
          "base_uri": "https://localhost:8080/",
          "height": 119
        },
        "outputId": "7f10abc4-1d05-4978-8632-d8dc981649ce"
      },
      "cell_type": "code",
      "source": [
        "!sudo apt-get install xclip\n",
        "!pip install pyperclip"
      ],
      "execution_count": 40,
      "outputs": [
        {
          "output_type": "stream",
          "text": [
            "Reading package lists... Done\n",
            "Building dependency tree       \n",
            "Reading state information... Done\n",
            "xclip is already the newest version (0.12+svn84-4build1).\n",
            "0 upgraded, 0 newly installed, 0 to remove and 8 not upgraded.\n",
            "Requirement already satisfied: pyperclip in /usr/local/lib/python3.6/dist-packages (1.7.0)\n"
          ],
          "name": "stdout"
        }
      ]
    },
    {
      "metadata": {
        "id": "3nX22kJtBsaL",
        "colab_type": "code",
        "colab": {
          "base_uri": "https://localhost:8080/",
          "height": 2655
        },
        "outputId": "2f346132-700d-4295-aa77-19c4dd807441"
      },
      "cell_type": "code",
      "source": [
        "!sudo apt-get install xclip python3-pyqt4"
      ],
      "execution_count": 37,
      "outputs": [
        {
          "output_type": "stream",
          "text": [
            "Reading package lists... Done\n",
            "Building dependency tree       \n",
            "Reading state information... Done\n",
            "xclip is already the newest version (0.12+svn84-4build1).\n",
            "The following additional packages will be installed:\n",
            "  libaudio2 libmng2 libqt4-dbus libqt4-declarative libqt4-designer libqt4-help\n",
            "  libqt4-network libqt4-script libqt4-scripttools libqt4-sql libqt4-sql-mysql\n",
            "  libqt4-svg libqt4-test libqt4-xml libqt4-xmlpatterns libqtassistantclient4\n",
            "  libqtcore4 libqtdbus4 libqtgui4 python3-sip qdbus qt-at-spi qtcore4-l10n\n",
            "Suggested packages:\n",
            "  nas libqt4-declarative-folderlistmodel libqt4-declarative-gestures\n",
            "  libqt4-declarative-particles libqt4-declarative-shaders qt4-qmlviewer\n",
            "  libqt4-dev libicu55 qt4-qtconfig python3-pyqt4-dbg\n",
            "The following NEW packages will be installed:\n",
            "  libaudio2 libmng2 libqt4-dbus libqt4-declarative libqt4-designer libqt4-help\n",
            "  libqt4-network libqt4-script libqt4-scripttools libqt4-sql libqt4-sql-mysql\n",
            "  libqt4-svg libqt4-test libqt4-xml libqt4-xmlpatterns libqtassistantclient4\n",
            "  libqtcore4 libqtdbus4 libqtgui4 python3-pyqt4 python3-sip qdbus qt-at-spi\n",
            "  qtcore4-l10n\n",
            "0 upgraded, 24 newly installed, 0 to remove and 8 not upgraded.\n",
            "Need to get 17.1 MB of archives.\n",
            "After this operation, 66.2 MB of additional disk space will be used.\n",
            "Get:1 http://archive.ubuntu.com/ubuntu bionic/universe amd64 libmng2 amd64 2.0.2-0ubuntu3 [169 kB]\n",
            "Get:2 http://archive.ubuntu.com/ubuntu bionic/main amd64 libaudio2 amd64 1.9.4-6 [50.3 kB]\n",
            "Get:3 http://archive.ubuntu.com/ubuntu bionic/universe amd64 qtcore4-l10n all 4:4.8.7+dfsg-7ubuntu1 [617 kB]\n",
            "Get:4 http://archive.ubuntu.com/ubuntu bionic/universe amd64 libqtcore4 amd64 4:4.8.7+dfsg-7ubuntu1 [1,552 kB]\n",
            "Get:5 http://archive.ubuntu.com/ubuntu bionic/universe amd64 libqt4-xml amd64 4:4.8.7+dfsg-7ubuntu1 [96.1 kB]\n",
            "Get:6 http://archive.ubuntu.com/ubuntu bionic/universe amd64 libqtdbus4 amd64 4:4.8.7+dfsg-7ubuntu1 [186 kB]\n",
            "Get:7 http://archive.ubuntu.com/ubuntu bionic/universe amd64 qdbus amd64 4:4.8.7+dfsg-7ubuntu1 [30.0 kB]\n",
            "Get:8 http://archive.ubuntu.com/ubuntu bionic/universe amd64 libqt4-dbus amd64 4:4.8.7+dfsg-7ubuntu1 [6,440 B]\n",
            "Get:9 http://archive.ubuntu.com/ubuntu bionic/universe amd64 libqt4-network amd64 4:4.8.7+dfsg-7ubuntu1 [562 kB]\n",
            "Get:10 http://archive.ubuntu.com/ubuntu bionic/universe amd64 libqt4-script amd64 4:4.8.7+dfsg-7ubuntu1 [815 kB]\n",
            "Get:11 http://archive.ubuntu.com/ubuntu bionic/universe amd64 libqt4-sql amd64 4:4.8.7+dfsg-7ubuntu1 [98.5 kB]\n",
            "Get:12 http://archive.ubuntu.com/ubuntu bionic/universe amd64 libqt4-xmlpatterns amd64 4:4.8.7+dfsg-7ubuntu1 [1,091 kB]\n",
            "Get:13 http://archive.ubuntu.com/ubuntu bionic/universe amd64 libqtgui4 amd64 4:4.8.7+dfsg-7ubuntu1 [4,115 kB]\n",
            "Get:14 http://archive.ubuntu.com/ubuntu bionic/universe amd64 libqt4-declarative amd64 4:4.8.7+dfsg-7ubuntu1 [1,089 kB]\n",
            "Get:15 http://archive.ubuntu.com/ubuntu bionic/universe amd64 libqt4-designer amd64 4:4.8.7+dfsg-7ubuntu1 [3,629 kB]\n",
            "Get:16 http://archive.ubuntu.com/ubuntu bionic/universe amd64 libqt4-help amd64 4:4.8.7+dfsg-7ubuntu1 [207 kB]\n",
            "Get:17 http://archive.ubuntu.com/ubuntu bionic/universe amd64 libqt4-scripttools amd64 4:4.8.7+dfsg-7ubuntu1 [225 kB]\n",
            "Get:18 http://archive.ubuntu.com/ubuntu bionic/universe amd64 libqt4-sql-mysql amd64 4:4.8.7+dfsg-7ubuntu1 [30.5 kB]\n",
            "Get:19 http://archive.ubuntu.com/ubuntu bionic/universe amd64 libqt4-svg amd64 4:4.8.7+dfsg-7ubuntu1 [138 kB]\n",
            "Get:20 http://archive.ubuntu.com/ubuntu bionic/universe amd64 libqt4-test amd64 4:4.8.7+dfsg-7ubuntu1 [61.2 kB]\n",
            "Get:21 http://archive.ubuntu.com/ubuntu bionic/universe amd64 libqtassistantclient4 amd64 4.6.3-7build1 [12.7 kB]\n",
            "Get:22 http://archive.ubuntu.com/ubuntu bionic/universe amd64 python3-sip amd64 4.19.7+dfsg-1 [75.2 kB]\n",
            "Get:23 http://archive.ubuntu.com/ubuntu bionic/universe amd64 python3-pyqt4 amd64 4.12.1+dfsg-2 [2,187 kB]\n",
            "Get:24 http://archive.ubuntu.com/ubuntu bionic/universe amd64 qt-at-spi amd64 0.4.0-8 [58.6 kB]\n",
            "Fetched 17.1 MB in 3s (6,417 kB/s)\n",
            "debconf: unable to initialize frontend: Dialog\n",
            "debconf: (No usable dialog-like program is installed, so the dialog based frontend cannot be used. at /usr/share/perl5/Debconf/FrontEnd/Dialog.pm line 76, <> line 24.)\n",
            "debconf: falling back to frontend: Readline\n",
            "debconf: unable to initialize frontend: Readline\n",
            "debconf: (This frontend requires a controlling tty.)\n",
            "debconf: falling back to frontend: Teletype\n",
            "dpkg-preconfigure: unable to re-open stdin: \n",
            "Selecting previously unselected package libmng2:amd64.\n",
            "(Reading database ... 131364 files and directories currently installed.)\n",
            "Preparing to unpack .../00-libmng2_2.0.2-0ubuntu3_amd64.deb ...\n",
            "Unpacking libmng2:amd64 (2.0.2-0ubuntu3) ...\n",
            "Selecting previously unselected package libaudio2:amd64.\n",
            "Preparing to unpack .../01-libaudio2_1.9.4-6_amd64.deb ...\n",
            "Unpacking libaudio2:amd64 (1.9.4-6) ...\n",
            "Selecting previously unselected package qtcore4-l10n.\n",
            "Preparing to unpack .../02-qtcore4-l10n_4%3a4.8.7+dfsg-7ubuntu1_all.deb ...\n",
            "Unpacking qtcore4-l10n (4:4.8.7+dfsg-7ubuntu1) ...\n",
            "Selecting previously unselected package libqtcore4:amd64.\n",
            "Preparing to unpack .../03-libqtcore4_4%3a4.8.7+dfsg-7ubuntu1_amd64.deb ...\n",
            "Unpacking libqtcore4:amd64 (4:4.8.7+dfsg-7ubuntu1) ...\n",
            "Selecting previously unselected package libqt4-xml:amd64.\n",
            "Preparing to unpack .../04-libqt4-xml_4%3a4.8.7+dfsg-7ubuntu1_amd64.deb ...\n",
            "Unpacking libqt4-xml:amd64 (4:4.8.7+dfsg-7ubuntu1) ...\n",
            "Selecting previously unselected package libqtdbus4:amd64.\n",
            "Preparing to unpack .../05-libqtdbus4_4%3a4.8.7+dfsg-7ubuntu1_amd64.deb ...\n",
            "Unpacking libqtdbus4:amd64 (4:4.8.7+dfsg-7ubuntu1) ...\n",
            "Selecting previously unselected package qdbus.\n",
            "Preparing to unpack .../06-qdbus_4%3a4.8.7+dfsg-7ubuntu1_amd64.deb ...\n",
            "Unpacking qdbus (4:4.8.7+dfsg-7ubuntu1) ...\n",
            "Selecting previously unselected package libqt4-dbus:amd64.\n",
            "Preparing to unpack .../07-libqt4-dbus_4%3a4.8.7+dfsg-7ubuntu1_amd64.deb ...\n",
            "Unpacking libqt4-dbus:amd64 (4:4.8.7+dfsg-7ubuntu1) ...\n",
            "Selecting previously unselected package libqt4-network:amd64.\n",
            "Preparing to unpack .../08-libqt4-network_4%3a4.8.7+dfsg-7ubuntu1_amd64.deb ...\n",
            "Unpacking libqt4-network:amd64 (4:4.8.7+dfsg-7ubuntu1) ...\n",
            "Selecting previously unselected package libqt4-script:amd64.\n",
            "Preparing to unpack .../09-libqt4-script_4%3a4.8.7+dfsg-7ubuntu1_amd64.deb ...\n",
            "Unpacking libqt4-script:amd64 (4:4.8.7+dfsg-7ubuntu1) ...\n",
            "Selecting previously unselected package libqt4-sql:amd64.\n",
            "Preparing to unpack .../10-libqt4-sql_4%3a4.8.7+dfsg-7ubuntu1_amd64.deb ...\n",
            "Unpacking libqt4-sql:amd64 (4:4.8.7+dfsg-7ubuntu1) ...\n",
            "Selecting previously unselected package libqt4-xmlpatterns:amd64.\n",
            "Preparing to unpack .../11-libqt4-xmlpatterns_4%3a4.8.7+dfsg-7ubuntu1_amd64.deb ...\n",
            "Unpacking libqt4-xmlpatterns:amd64 (4:4.8.7+dfsg-7ubuntu1) ...\n",
            "Selecting previously unselected package libqtgui4:amd64.\n",
            "Preparing to unpack .../12-libqtgui4_4%3a4.8.7+dfsg-7ubuntu1_amd64.deb ...\n",
            "Unpacking libqtgui4:amd64 (4:4.8.7+dfsg-7ubuntu1) ...\n",
            "Selecting previously unselected package libqt4-declarative:amd64.\n",
            "Preparing to unpack .../13-libqt4-declarative_4%3a4.8.7+dfsg-7ubuntu1_amd64.deb ...\n",
            "Unpacking libqt4-declarative:amd64 (4:4.8.7+dfsg-7ubuntu1) ...\n",
            "Selecting previously unselected package libqt4-designer:amd64.\n",
            "Preparing to unpack .../14-libqt4-designer_4%3a4.8.7+dfsg-7ubuntu1_amd64.deb ...\n",
            "Unpacking libqt4-designer:amd64 (4:4.8.7+dfsg-7ubuntu1) ...\n",
            "Selecting previously unselected package libqt4-help:amd64.\n",
            "Preparing to unpack .../15-libqt4-help_4%3a4.8.7+dfsg-7ubuntu1_amd64.deb ...\n",
            "Unpacking libqt4-help:amd64 (4:4.8.7+dfsg-7ubuntu1) ...\n",
            "Selecting previously unselected package libqt4-scripttools:amd64.\n",
            "Preparing to unpack .../16-libqt4-scripttools_4%3a4.8.7+dfsg-7ubuntu1_amd64.deb ...\n",
            "Unpacking libqt4-scripttools:amd64 (4:4.8.7+dfsg-7ubuntu1) ...\n",
            "Selecting previously unselected package libqt4-sql-mysql:amd64.\n",
            "Preparing to unpack .../17-libqt4-sql-mysql_4%3a4.8.7+dfsg-7ubuntu1_amd64.deb ...\n",
            "Unpacking libqt4-sql-mysql:amd64 (4:4.8.7+dfsg-7ubuntu1) ...\n",
            "Selecting previously unselected package libqt4-svg:amd64.\n",
            "Preparing to unpack .../18-libqt4-svg_4%3a4.8.7+dfsg-7ubuntu1_amd64.deb ...\n",
            "Unpacking libqt4-svg:amd64 (4:4.8.7+dfsg-7ubuntu1) ...\n",
            "Selecting previously unselected package libqt4-test:amd64.\n",
            "Preparing to unpack .../19-libqt4-test_4%3a4.8.7+dfsg-7ubuntu1_amd64.deb ...\n",
            "Unpacking libqt4-test:amd64 (4:4.8.7+dfsg-7ubuntu1) ...\n",
            "Selecting previously unselected package libqtassistantclient4:amd64.\n",
            "Preparing to unpack .../20-libqtassistantclient4_4.6.3-7build1_amd64.deb ...\n",
            "Unpacking libqtassistantclient4:amd64 (4.6.3-7build1) ...\n",
            "Selecting previously unselected package python3-sip.\n",
            "Preparing to unpack .../21-python3-sip_4.19.7+dfsg-1_amd64.deb ...\n",
            "Unpacking python3-sip (4.19.7+dfsg-1) ...\n",
            "Selecting previously unselected package python3-pyqt4.\n",
            "Preparing to unpack .../22-python3-pyqt4_4.12.1+dfsg-2_amd64.deb ...\n",
            "Unpacking python3-pyqt4 (4.12.1+dfsg-2) ...\n",
            "Selecting previously unselected package qt-at-spi:amd64.\n",
            "Preparing to unpack .../23-qt-at-spi_0.4.0-8_amd64.deb ...\n",
            "Unpacking qt-at-spi:amd64 (0.4.0-8) ...\n",
            "Setting up qtcore4-l10n (4:4.8.7+dfsg-7ubuntu1) ...\n",
            "Setting up libmng2:amd64 (2.0.2-0ubuntu3) ...\n",
            "Processing triggers for libc-bin (2.27-3ubuntu1) ...\n",
            "Setting up libqtcore4:amd64 (4:4.8.7+dfsg-7ubuntu1) ...\n",
            "Setting up python3-sip (4.19.7+dfsg-1) ...\n",
            "Processing triggers for man-db (2.8.3-2ubuntu0.1) ...\n",
            "Setting up libqt4-test:amd64 (4:4.8.7+dfsg-7ubuntu1) ...\n",
            "Setting up libqt4-xml:amd64 (4:4.8.7+dfsg-7ubuntu1) ...\n",
            "Setting up libaudio2:amd64 (1.9.4-6) ...\n",
            "Setting up libqt4-sql:amd64 (4:4.8.7+dfsg-7ubuntu1) ...\n",
            "Setting up libqtdbus4:amd64 (4:4.8.7+dfsg-7ubuntu1) ...\n",
            "Setting up libqt4-script:amd64 (4:4.8.7+dfsg-7ubuntu1) ...\n",
            "Setting up libqt4-sql-mysql:amd64 (4:4.8.7+dfsg-7ubuntu1) ...\n",
            "Setting up qdbus (4:4.8.7+dfsg-7ubuntu1) ...\n",
            "Setting up libqt4-dbus:amd64 (4:4.8.7+dfsg-7ubuntu1) ...\n",
            "Setting up libqt4-network:amd64 (4:4.8.7+dfsg-7ubuntu1) ...\n",
            "Setting up libqt4-xmlpatterns:amd64 (4:4.8.7+dfsg-7ubuntu1) ...\n",
            "Setting up libqtassistantclient4:amd64 (4.6.3-7build1) ...\n",
            "Setting up libqt4-declarative:amd64 (4:4.8.7+dfsg-7ubuntu1) ...\n",
            "Setting up libqtgui4:amd64 (4:4.8.7+dfsg-7ubuntu1) ...\n",
            "Setting up qt-at-spi:amd64 (0.4.0-8) ...\n",
            "Setting up libqt4-designer:amd64 (4:4.8.7+dfsg-7ubuntu1) ...\n",
            "Setting up libqt4-help:amd64 (4:4.8.7+dfsg-7ubuntu1) ...\n",
            "Setting up libqt4-svg:amd64 (4:4.8.7+dfsg-7ubuntu1) ...\n",
            "Setting up libqt4-scripttools:amd64 (4:4.8.7+dfsg-7ubuntu1) ...\n",
            "Setting up python3-pyqt4 (4.12.1+dfsg-2) ...\n",
            "Processing triggers for libc-bin (2.27-3ubuntu1) ...\n"
          ],
          "name": "stdout"
        }
      ]
    },
    {
      "metadata": {
        "id": "LjbNyIqANIRW",
        "colab_type": "code",
        "outputId": "e148eb3c-d687-4669-f3b6-7e8096dc2a85",
        "colab": {
          "base_uri": "https://localhost:8080/",
          "height": 453
        }
      },
      "cell_type": "code",
      "source": [
        "import random\n",
        "import os\n",
        "import echo\n",
        "import subprocess\n",
        "import pyperclip\n",
        "\n",
        "def copy2clip(txt):\n",
        "    cmd ='echo ' + txt.strip()+ '|clip \\n'\n",
        "    subprocess.run(cmd, check=True)\n",
        "    return 0\n",
        "\n",
        "\n",
        "char = \"abcdefghijklmnopqrstuvwxyzABCDEFGHIJKLMNOPQRSTUVWXYZ1234567890!@#$%^&*\"\n",
        "password = \"\"\n",
        "\n",
        "while True:\n",
        "  user_input = input(\"How long would you like your password to be? \")\n",
        "\n",
        "  try:\n",
        "     val = int(user_input)\n",
        "  except ValueError:\n",
        "    print(\"Please enter a number\")\n",
        "    break\n",
        "\n",
        "  user_input = int(user_input)\n",
        "\n",
        "  for i in range(user_input):\n",
        "    password += random.choice(char)\n",
        "  print(\"\")\n",
        "  print(str(password))\n",
        "  \n",
        "  x = input(\"Would you like to copy this password to your clipboard? \")\n",
        "  \n",
        "  if x == \"Yes\" or x == \"yes\":\n",
        "    pyperclip.copy(str(password))\n",
        "    print(\"Your password has been copied!\")\n",
        "    break\n",
        "  else:\n",
        "    break"
      ],
      "execution_count": 41,
      "outputs": [
        {
          "output_type": "stream",
          "text": [
            "How long would you like your password to be? 10\n",
            "\n",
            "*5@2AF!moA\n",
            "Would you like to copy this password to your clipboard? yes\n"
          ],
          "name": "stdout"
        },
        {
          "output_type": "error",
          "ename": "PyperclipException",
          "evalue": "ignored",
          "traceback": [
            "\u001b[0;31m---------------------------------------------------------------------------\u001b[0m",
            "\u001b[0;31mPyperclipException\u001b[0m                        Traceback (most recent call last)",
            "\u001b[0;32m<ipython-input-41-da12d098751f>\u001b[0m in \u001b[0;36m<module>\u001b[0;34m()\u001b[0m\n\u001b[1;32m     33\u001b[0m \u001b[0;34m\u001b[0m\u001b[0m\n\u001b[1;32m     34\u001b[0m   \u001b[0;32mif\u001b[0m \u001b[0mx\u001b[0m \u001b[0;34m==\u001b[0m \u001b[0;34m\"Yes\"\u001b[0m \u001b[0;32mor\u001b[0m \u001b[0mx\u001b[0m \u001b[0;34m==\u001b[0m \u001b[0;34m\"yes\"\u001b[0m\u001b[0;34m:\u001b[0m\u001b[0;34m\u001b[0m\u001b[0;34m\u001b[0m\u001b[0m\n\u001b[0;32m---> 35\u001b[0;31m     \u001b[0mpyperclip\u001b[0m\u001b[0;34m.\u001b[0m\u001b[0mcopy\u001b[0m\u001b[0;34m(\u001b[0m\u001b[0mstr\u001b[0m\u001b[0;34m(\u001b[0m\u001b[0mpassword\u001b[0m\u001b[0;34m)\u001b[0m\u001b[0;34m)\u001b[0m\u001b[0;34m\u001b[0m\u001b[0;34m\u001b[0m\u001b[0m\n\u001b[0m\u001b[1;32m     36\u001b[0m     \u001b[0mprint\u001b[0m\u001b[0;34m(\u001b[0m\u001b[0;34m\"Your password has been copied!\"\u001b[0m\u001b[0;34m)\u001b[0m\u001b[0;34m\u001b[0m\u001b[0;34m\u001b[0m\u001b[0m\n\u001b[1;32m     37\u001b[0m     \u001b[0;32mbreak\u001b[0m\u001b[0;34m\u001b[0m\u001b[0;34m\u001b[0m\u001b[0m\n",
            "\u001b[0;32m/usr/local/lib/python3.6/dist-packages/pyperclip/__init__.py\u001b[0m in \u001b[0;36m__call__\u001b[0;34m(self, *args, **kwargs)\u001b[0m\n\u001b[1;32m    299\u001b[0m \u001b[0;34m\u001b[0m\u001b[0m\n\u001b[1;32m    300\u001b[0m         \u001b[0;32mdef\u001b[0m \u001b[0m__call__\u001b[0m\u001b[0;34m(\u001b[0m\u001b[0mself\u001b[0m\u001b[0;34m,\u001b[0m \u001b[0;34m*\u001b[0m\u001b[0margs\u001b[0m\u001b[0;34m,\u001b[0m \u001b[0;34m**\u001b[0m\u001b[0mkwargs\u001b[0m\u001b[0;34m)\u001b[0m\u001b[0;34m:\u001b[0m\u001b[0;34m\u001b[0m\u001b[0;34m\u001b[0m\u001b[0m\n\u001b[0;32m--> 301\u001b[0;31m             \u001b[0;32mraise\u001b[0m \u001b[0mPyperclipException\u001b[0m\u001b[0;34m(\u001b[0m\u001b[0mEXCEPT_MSG\u001b[0m\u001b[0;34m)\u001b[0m\u001b[0;34m\u001b[0m\u001b[0;34m\u001b[0m\u001b[0m\n\u001b[0m\u001b[1;32m    302\u001b[0m \u001b[0;34m\u001b[0m\u001b[0m\n\u001b[1;32m    303\u001b[0m         \u001b[0;32mif\u001b[0m \u001b[0mPY2\u001b[0m\u001b[0;34m:\u001b[0m\u001b[0;34m\u001b[0m\u001b[0;34m\u001b[0m\u001b[0m\n",
            "\u001b[0;31mPyperclipException\u001b[0m: \n    Pyperclip could not find a copy/paste mechanism for your system.\n    For more information, please visit https://pyperclip.readthedocs.io/en/latest/introduction.html#not-implemented-error "
          ]
        }
      ]
    }
  ]
}